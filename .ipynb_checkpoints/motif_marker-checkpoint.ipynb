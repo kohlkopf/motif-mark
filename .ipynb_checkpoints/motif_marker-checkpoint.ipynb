{
 "cells": [
  {
   "cell_type": "markdown",
   "metadata": {},
   "source": [
    "# Pycairo practice"
   ]
  },
  {
   "cell_type": "code",
   "execution_count": 123,
   "metadata": {
    "collapsed": true
   },
   "outputs": [],
   "source": [
    "import cairo\n",
    "import math\n",
    "import numpy as np\n",
    "from IPython.display import SVG, display  #for displaying in the jn, thanks Jake"
   ]
  },
  {
   "cell_type": "markdown",
   "metadata": {},
   "source": [
    "## Web example"
   ]
  },
  {
   "cell_type": "code",
   "execution_count": 121,
   "metadata": {},
   "outputs": [],
   "source": [
    "WIDTH, HEIGHT = 256, 256\n",
    "\n",
    "surface = cairo.SVGSurface(\"example.svg\", 256, 256)\n",
    "ctx = cairo.Context (surface)\n",
    "\n",
    "ctx.scale (WIDTH, HEIGHT) # Normalizing the canvas\n",
    "\n",
    "pat = cairo.LinearGradient (0.0, 0.0, 0.0, 1.0)\n",
    "pat.add_color_stop_rgba (1, 0.7, 0, 0, 0.5) # First stop, 50% opacity\n",
    "pat.add_color_stop_rgba (0, 0.9, 0.7, 0.2, 1) # Last stop, 100% opacity\n",
    "\n",
    "ctx.rectangle (0, 0, 1, 1) # Rectangle(x0, y0, x1, y1)\n",
    "ctx.set_source (pat)\n",
    "ctx.fill ()\n",
    "\n",
    "ctx.translate (0.1, 0.1) # Changing the current transformation matrix\n",
    "\n",
    "ctx.move_to (0, 0)\n",
    "# Arc(cx, cy, radius, start_angle, stop_angle)\n",
    "ctx.arc (0.2, 0.1, 0.1, -math.pi/2, 0)\n",
    "ctx.line_to (0.5, 0.1) # Line to (x,y)\n",
    "# Curve(x1, y1, x2, y2, x3, y3)\n",
    "ctx.curve_to (0.5, 0.2, 0.5, 0.4, 0.2, 0.8)\n",
    "ctx.close_path ()\n",
    "\n",
    "ctx.set_source_rgb (0.3, 0.2, 0.5) # Solid color\n",
    "ctx.set_line_width (0.02)\n",
    "ctx.stroke ()\n",
    "\n",
    "surface.finish()"
   ]
  },
  {
   "cell_type": "code",
   "execution_count": 122,
   "metadata": {},
   "outputs": [
    {
     "data": {
      "image/svg+xml": [
       "<svg height=\"256pt\" version=\"1.1\" viewBox=\"0 0 256 256\" width=\"256pt\" xmlns=\"http://www.w3.org/2000/svg\" xmlns:xlink=\"http://www.w3.org/1999/xlink\">\n",
       "<defs>\n",
       "<linearGradient gradientTransform=\"matrix(256,0,0,256,0,0)\" gradientUnits=\"userSpaceOnUse\" id=\"linear0\" x1=\"0\" x2=\"0\" y1=\"0\" y2=\"1\">\n",
       "<stop offset=\"0\" style=\"stop-color:rgb(90%,70%,20%);stop-opacity:1;\"/>\n",
       "<stop offset=\"1\" style=\"stop-color:rgb(70%,0%,0%);stop-opacity:0.5;\"/>\n",
       "</linearGradient>\n",
       "</defs>\n",
       "<g id=\"surface219\">\n",
       "<rect height=\"256\" style=\"fill:url(#linear0);stroke:none;\" width=\"256\" x=\"0\" y=\"0\"/>\n",
       "<path d=\"M 0.00000610352 0.00000610352 L 0.200003 0.00000610352 C 0.255225 0.00000610352 0.299994 0.0447754 0.299994 0.0999969 L 0.500006 0.0999969 C 0.500006 0.200003 0.500006 0.4 0.200003 0.799994 Z M 0.00000610352 0.00000610352 \" style=\"fill:none;stroke-width:0.02;stroke-linecap:butt;stroke-linejoin:miter;stroke:rgb(30%,20%,50%);stroke-opacity:1;stroke-miterlimit:10;\" transform=\"matrix(256,0,0,256,25.6,25.6)\"/>\n",
       "</g>\n",
       "</svg>"
      ],
      "text/plain": [
       "<IPython.core.display.SVG object>"
      ]
     },
     "execution_count": 122,
     "metadata": {},
     "output_type": "execute_result"
    }
   ],
   "source": [
    "SVG('example.svg')"
   ]
  },
  {
   "cell_type": "markdown",
   "metadata": {},
   "source": [
    "## Exon drawing"
   ]
  },
  {
   "cell_type": "code",
   "execution_count": 119,
   "metadata": {},
   "outputs": [],
   "source": [
    "surface = cairo.SVGSurface(\"exon.svg\", 300, 200)\n",
    "context = cairo.Context(surface)\n",
    "context.scale(400, 200)\n",
    "\n",
    "x0, x1 = 0.1, 0.9\n",
    "y0, y1 = 0.5, 0.5\n",
    "\n",
    "context.move_to(x0, y0)\n",
    "context.set_line_width(0.005)\n",
    "context.line_to(x1, y1)\n",
    "context.stroke()\n",
    "\n",
    "context.rectangle(.2,(.5-.02), .2, .04)\n",
    "context.fill()\n",
    "context.stroke()\n",
    "\n",
    "surface.finish()"
   ]
  },
  {
   "cell_type": "code",
   "execution_count": 120,
   "metadata": {
    "scrolled": true
   },
   "outputs": [
    {
     "data": {
      "image/svg+xml": [
       "<svg height=\"200pt\" version=\"1.1\" viewBox=\"0 0 300 200\" width=\"300pt\" xmlns=\"http://www.w3.org/2000/svg\" xmlns:xlink=\"http://www.w3.org/1999/xlink\">\n",
       "<g id=\"surface215\">\n",
       "<path d=\"M 0.1 0.5 L 0.9 0.5 \" style=\"fill:none;stroke-width:0.005;stroke-linecap:butt;stroke-linejoin:miter;stroke:rgb(0%,0%,0%);stroke-opacity:1;stroke-miterlimit:10;\" transform=\"matrix(400,0,0,200,0,0)\"/>\n",
       "<path d=\"M 80 96 L 160 96 L 160 104 L 80 104 Z M 80 96 \" style=\" stroke:none;fill-rule:nonzero;fill:rgb(0%,0%,0%);fill-opacity:1;\"/>\n",
       "</g>\n",
       "</svg>"
      ],
      "text/plain": [
       "<IPython.core.display.SVG object>"
      ]
     },
     "execution_count": 120,
     "metadata": {},
     "output_type": "execute_result"
    }
   ],
   "source": [
    "from IPython.display import SVG, display\n",
    "SVG('exon.svg')"
   ]
  },
  {
   "cell_type": "markdown",
   "metadata": {},
   "source": [
    "# Assignment"
   ]
  },
  {
   "cell_type": "markdown",
   "metadata": {},
   "source": [
    "## Functions"
   ]
  },
  {
   "cell_type": "code",
   "execution_count": 127,
   "metadata": {
    "collapsed": true
   },
   "outputs": [],
   "source": [
    "def iupac_trans(motifs_file):\n",
    "    '''IUPAC Translator: takes motif_list.txt, returns list of regex terms for the motif based on IUPAC nomenclature.'''\n",
    "    \n",
    "    iupac = {\"A\":'[Aa]', \"a\":'[Aa]',\n",
    "             \"C\":'[Cc]', \"c\":'[Cc]',\n",
    "             \"G\":'[Gg]', \"g\":'[Gg]',\n",
    "             \"T\":'[TUtu]', \"t\":'[TUtu]',\n",
    "             \"U\":'[TUtu]', \"u\":'[TUtu]',\n",
    "             \"R\":'[AGag]', \"r\":'[AGag]',\n",
    "             \"Y\":'[CTct]', \"y\":'[CTct]',\n",
    "             \"S\":'[GCgc]', \"s\":'[GCgc]',\n",
    "             \"W\":'[ATat]', \"w\":'[ATat]',\n",
    "             \"K\":'[GTgt]', \"k\":'[GTgt]',\n",
    "             \"M\":'[ACac]', \"m\":'[ACac]',\n",
    "             \"B\":'[CGTcgt]', \"b\":'[CGTcgt]',\n",
    "             \"D\":'[AGTagt]', \"d\":'[AGTagt]',\n",
    "             \"H\":'[ACTact]', \"h\":'[ACTact]',\n",
    "             \"V\":'[ACGacg]', \"v\":'[ACGacg]',\n",
    "             \"N\":'[A-Za-z]', \"n\":'[A-Za-z]'}\n",
    "                      \n",
    "    \n",
    "    with open(motifs_file, 'r') as motifs:\n",
    "        search_terms = []  \n",
    "        line = motifs.readline()  \n",
    "        while line:  #each motif\n",
    "            st = ''\n",
    "            mt = str(line).strip('\\n')\n",
    "            for char in mt:  #each character\n",
    "                st = st+iupac[char]  #find in iupac, add it to the current search term\n",
    "            \n",
    "            search_terms.append(st)\n",
    "            line = motifs.readline()\n",
    "    \n",
    "    return search_terms"
   ]
  },
  {
   "cell_type": "code",
   "execution_count": 128,
   "metadata": {},
   "outputs": [
    {
     "data": {
      "text/plain": [
       "['[CTct][Gg][Cc][CTct]',\n",
       " '[TUtu][Gg][Cc][Aa][TUtu][Gg]',\n",
       " '[Gg][Cc][Aa][TUtu][Gg]']"
      ]
     },
     "execution_count": 128,
     "metadata": {},
     "output_type": "execute_result"
    }
   ],
   "source": [
    "motifs = iupac_trans('motifs.txt')\n",
    "\n",
    "motifs"
   ]
  },
  {
   "cell_type": "code",
   "execution_count": null,
   "metadata": {
    "collapsed": true
   },
   "outputs": [],
   "source": []
  }
 ],
 "metadata": {
  "kernelspec": {
   "display_name": "Python 3",
   "language": "python",
   "name": "python3"
  },
  "language_info": {
   "codemirror_mode": {
    "name": "ipython",
    "version": 3
   },
   "file_extension": ".py",
   "mimetype": "text/x-python",
   "name": "python",
   "nbconvert_exporter": "python",
   "pygments_lexer": "ipython3",
   "version": "3.6.1"
  },
  "toc": {
   "colors": {
    "hover_highlight": "#DAA520",
    "navigate_num": "#000000",
    "navigate_text": "#333333",
    "running_highlight": "#FF0000",
    "selected_highlight": "#FFD700",
    "sidebar_border": "#EEEEEE",
    "wrapper_background": "#FFFFFF"
   },
   "moveMenuLeft": true,
   "nav_menu": {
    "height": "103px",
    "width": "252px"
   },
   "navigate_menu": true,
   "number_sections": true,
   "sideBar": true,
   "threshold": "3",
   "toc_cell": false,
   "toc_section_display": "block",
   "toc_window_display": true,
   "widenNotebook": false
  }
 },
 "nbformat": 4,
 "nbformat_minor": 2
}
